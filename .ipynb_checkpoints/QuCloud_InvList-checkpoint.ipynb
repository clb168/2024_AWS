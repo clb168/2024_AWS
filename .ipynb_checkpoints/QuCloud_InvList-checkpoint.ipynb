{
 "cells": [
  {
   "cell_type": "code",
   "execution_count": null,
   "id": "7a5e3586-54b9-44fd-99a2-994c14eca3ad",
   "metadata": {},
   "outputs": [],
   "source": [
    "#QuCloud applied - Algo 1\n",
    "\n",
    "#input program Q_prog\n",
    "\n",
    "#Involvement Gates\n",
    "IG_list = []\n",
    "\n",
    "#involvement lists\n",
    "IL_map = [][]\n",
    "\n",
    "for gate in IG_list:\n",
    "    \n",
    "    "
   ]
  }
 ],
 "metadata": {
  "kernelspec": {
   "display_name": "Python 3 [IonQ]",
   "language": "python",
   "name": "python3_ionq_6vdluz"
  },
  "language_info": {
   "codemirror_mode": {
    "name": "ipython",
    "version": 3
   },
   "file_extension": ".py",
   "mimetype": "text/x-python",
   "name": "python",
   "nbconvert_exporter": "python",
   "pygments_lexer": "ipython3",
   "version": "3.9.18"
  }
 },
 "nbformat": 4,
 "nbformat_minor": 5
}
